{
 "cells": [
  {
   "cell_type": "code",
   "execution_count": 9,
   "id": "e88b46f2-d5dd-4f28-8db8-e0bd80682065",
   "metadata": {},
   "outputs": [
    {
     "data": {
      "text/plain": [
       "[2, 3, 4]"
      ]
     },
     "execution_count": 9,
     "metadata": {},
     "output_type": "execute_result"
    }
   ],
   "source": [
    "input_list1 = [1,2,3,4,[5,6,7,[8,9]]]                # Expected output [9, 10]\n",
    "input_list2 = [1,2,[3,4,[7,[5,5]]],4,[8,7],9]        # Expected output [6, 6]\n",
    "input_list3 = [2,2,[1,2,3],5,[9,8,[7,4],6],1,1]      # Expected output [8, 5]\n",
    "input_list4 = [1,2,3]                                # Expected output [2, 3, 4]\n",
    "input_list5 = [8,[2,2,[1,4],7],0,9,[0,[1,[4,[5]]]]]  # Expected output [6]\n",
    "input_list6 = [1,[4,[7]],3,[3,4,5]]                  # Expected output [8]\n",
    "input_list7 = [3,2,[1,5],7,7]                        # Expected output [2, 6]\n",
    "input_list8 = [[1,2],[3,4]]                          # Expected output [2, 3]\n",
    "\n",
    "\n",
    "def contains_list(input_list):\n",
    "    '''\n",
    "    This is a helper function that returns True if a given list contains another list.\n",
    "    EX: \n",
    "        input1 = [1,2,3], output1 = False\n",
    "        input2 = [1,[2,2]], output2 = True\n",
    "    '''\n",
    "    \n",
    "    for entry in input_list:\n",
    "        if isinstance(entry, int):\n",
    "            continue\n",
    "        else:\n",
    "            return True\n",
    "    return False\n",
    "\n",
    "def generate_output(input_list):\n",
    "    '''\n",
    "    This is a helper function that adds 1 to each value of a given list.\n",
    "    EX: input = [0,1,2], output = [1,2,3]\n",
    "    '''\n",
    "    \n",
    "    new_list = []\n",
    "    for i in input_list:\n",
    "        new_list.append(i + 1)\n",
    "    return new_list\n",
    "\n",
    "def get_inner_lists(input):\n",
    "    '''\n",
    "    This is a helper function that returns the contents of the \"inner lists\" found inside an input list\n",
    "    EX: input = [[1,2],[1,[1,2]]], output = [1,2,1,[1,2]]\n",
    "    '''\n",
    "    inner_lists = []\n",
    "    for i in input:\n",
    "        if isinstance(i, list):\n",
    "            for k in i:\n",
    "                inner_lists.append(k)\n",
    "    return inner_lists\n",
    "\n",
    "def recursive_inner_plus(input_list):\n",
    "    if contains_list(input_list) == False:\n",
    "        return generate_output(input_list)\n",
    "    else:\n",
    "        input = get_inner_lists(input_list)\n",
    "        print(input)\n",
    "        return recursive_inner_plus(input)\n",
    "\n",
    "recursive_inner_plus(input_list4)"
   ]
  },
  {
   "cell_type": "code",
   "execution_count": null,
   "id": "4e5c2cb1-973f-4af8-9803-20f25126ad28",
   "metadata": {},
   "outputs": [],
   "source": []
  }
 ],
 "metadata": {
  "kernelspec": {
   "display_name": "Python 3 (ipykernel)",
   "language": "python",
   "name": "python3"
  },
  "language_info": {
   "codemirror_mode": {
    "name": "ipython",
    "version": 3
   },
   "file_extension": ".py",
   "mimetype": "text/x-python",
   "name": "python",
   "nbconvert_exporter": "python",
   "pygments_lexer": "ipython3",
   "version": "3.13.7"
  }
 },
 "nbformat": 4,
 "nbformat_minor": 5
}
