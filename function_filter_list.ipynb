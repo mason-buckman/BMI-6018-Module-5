{
 "cells": [
  {
   "cell_type": "code",
   "execution_count": 7,
   "id": "8174dcaf-255d-4d30-bc54-1e51ce5e10f3",
   "metadata": {},
   "outputs": [
    {
     "name": "stdout",
     "output_type": "stream",
     "text": [
      "[15, 18, 9]\n"
     ]
    }
   ],
   "source": [
    "input1 = [1,2,3,4,5,6,7,8,9]\n",
    "input2 = [0,1,6,8,4,12,36,9,50,22,13,7]\n",
    "input3 = [42,15,18,20,29,21,34,40,31,9]\n",
    "threshold = 19\n",
    "\n",
    "def function_filter_list(input_list, threshold):\n",
    "    '''\n",
    "    Given an input list (list of integers) and a threshold value (integer), this function outputs a list of values that are at or below\n",
    "    the specified threshold.\n",
    "    EX: input = [1,3,5,7,9,11], threshold = 8, output = [1,3,5,7]\n",
    "    '''\n",
    "    \n",
    "    filtered_list = []\n",
    "    for i in input_list:\n",
    "        if i <= threshold:\n",
    "            filtered_list.append(i)\n",
    "    return filtered_list\n",
    "\n",
    "output = function_filter_list(input3, threshold)\n",
    "print(output)"
   ]
  },
  {
   "cell_type": "code",
   "execution_count": null,
   "id": "03ed4408-cae3-4202-98f4-c71daacb543d",
   "metadata": {},
   "outputs": [],
   "source": []
  }
 ],
 "metadata": {
  "kernelspec": {
   "display_name": "Python 3 (ipykernel)",
   "language": "python",
   "name": "python3"
  },
  "language_info": {
   "codemirror_mode": {
    "name": "ipython",
    "version": 3
   },
   "file_extension": ".py",
   "mimetype": "text/x-python",
   "name": "python",
   "nbconvert_exporter": "python",
   "pygments_lexer": "ipython3",
   "version": "3.13.7"
  }
 },
 "nbformat": 4,
 "nbformat_minor": 5
}
